{
 "cells": [
  {
   "cell_type": "markdown",
   "metadata": {},
   "source": [
    "# Spark streaming: 2 + 1\n",
    "\n",
    "    We chose the following queries: 2-> Q1 and Q5, 1-> Q6\n",
    "    This queries only aggregate statistics and do not need pattern matching"
   ]
  },
  {
   "cell_type": "code",
   "execution_count": 270,
   "metadata": {
    "scrolled": true
   },
   "outputs": [
    {
     "name": "stdout",
     "output_type": "stream",
     "text": [
      "SparkContext created!\n",
      "StreamingContext created!\n"
     ]
    }
   ],
   "source": [
    "from pyspark import SparkContext\n",
    "from pyspark.streaming import StreamingContext\n",
    "import socket\n",
    "from pyspark.streaming.kafka import KafkaUtils\n",
    "\n",
    "\n",
    "SPEED_UP_FACTOR = 60\n",
    "sc = SparkContext(\"local[2]\", \"KafkaExample\")\n",
    "print(\"SparkContext created!\")\n",
    "ssc = StreamingContext(sc, 5)\n",
    "print(\"StreamingContext created!\")"
   ]
  },
  {
   "cell_type": "code",
   "execution_count": 271,
   "metadata": {},
   "outputs": [],
   "source": [
    "def to_dict(item):\n",
    "    event = item[-1].split(',')\n",
    "\n",
    "    keys = [\n",
    "        'medallion',\n",
    "        'hack_license',\n",
    "        'pickup_datetime',\n",
    "        'dropoff_datetime',\n",
    "        'trip_time_in_secs',\n",
    "        'trip_distance',\n",
    "        'pickup_longitude',\n",
    "        'pickup_latitude',\n",
    "        'dropoff_longitude',\n",
    "        'dropoff_latitude',\n",
    "        'payment_type',\n",
    "        'fare_amount',\n",
    "        'surcharge',\n",
    "        'mta_tax',\n",
    "        'tip_amount',\n",
    "        'tolls_amount',\n",
    "        'total_amount'\n",
    "    ]\n",
    "\n",
    "    return {keys[i]: event[i] for i in range(len(keys))}"
   ]
  },
  {
   "cell_type": "markdown",
   "metadata": {},
   "source": [
    "## 300x300 grid\n",
    "Maps longitude and latitude to 300x300 grid"
   ]
  },
  {
   "cell_type": "code",
   "execution_count": 272,
   "metadata": {},
   "outputs": [],
   "source": [
    "def to_route_300_grid(d):\n",
    "    start_cell_x = int(-1*((-74.913585 - float(d['pickup_longitude'])) / 0.005986 ) + 1)\n",
    "    start_cell_y = int(((41.474937 - float(d['pickup_latitude']))/ 0.004491556) + 1)\n",
    "    ending_cell_x = int(-1*((-74.913585 - float(d['dropoff_longitude'])) / 0.005986 ) + 1)\n",
    "    ending_cell_y = int(((41.474937 - float(d['dropoff_latitude'])) / 0.004491556) + 1)\n",
    "    \n",
    "    key = f'{start_cell_x}_{start_cell_y}_{ending_cell_x}_{ending_cell_y}'\n",
    "    \n",
    "    if start_cell_x >= 1 and start_cell_y >= 1 and ending_cell_x <= 300 and ending_cell_y <= 300:\n",
    "        return key, 1\n",
    "    \n",
    "    return key, 0"
   ]
  },
  {
   "cell_type": "markdown",
   "metadata": {},
   "source": [
    "## Q1: Find the top 10 most frequent routes during the last 30 minutes"
   ]
  },
  {
   "cell_type": "code",
   "execution_count": 273,
   "metadata": {},
   "outputs": [
    {
     "name": "stdout",
     "output_type": "stream",
     "text": [
      "-------------------------------------------\n",
      "Time: 2019-06-13 22:38:05\n",
      "-------------------------------------------\n",
      "('189_186_165_160', 1)\n",
      "('156_165_157_162', 1)\n",
      "('154_160_153_162', 1)\n",
      "('156_159_155_168', 1)\n",
      "('154_167_150_187', 1)\n",
      "('155_160_157_162', 1)\n",
      "('157_164_175_157', 1)\n",
      "('162_155_190_185', 1)\n",
      "('188_186_158_161', 1)\n",
      "('190_185_165_165', 1)\n",
      "\n",
      "-------------------------------------------\n",
      "Time: 2019-06-13 22:38:10\n",
      "-------------------------------------------\n",
      "('156_165_157_162', 2)\n",
      "('154_162_155_160', 2)\n",
      "('156_160_156_160', 2)\n",
      "('162_155_160_158', 2)\n",
      "('156_157_175_157', 2)\n",
      "('190_185_151_171', 2)\n",
      "('189_186_165_160', 1)\n",
      "('154_160_153_162', 1)\n",
      "('156_159_155_168', 1)\n",
      "('154_167_150_187', 1)\n",
      "\n",
      "-------------------------------------------\n",
      "Time: 2019-06-13 22:38:15\n",
      "-------------------------------------------\n",
      "('156_165_157_162', 2)\n",
      "('154_162_155_160', 2)\n",
      "('157_159_157_164', 2)\n",
      "('156_160_156_160', 2)\n",
      "('157_165_155_162', 2)\n",
      "('155_158_155_160', 2)\n",
      "('156_163_175_157', 2)\n",
      "('155_162_156_162', 2)\n",
      "('156_156_157_159', 2)\n",
      "('159_160_175_157', 2)\n",
      "\n",
      "-------------------------------------------\n",
      "Time: 2019-06-13 22:38:20\n",
      "-------------------------------------------\n",
      "('154_162_155_160', 3)\n",
      "('155_159_154_162', 3)\n",
      "('155_158_155_160', 3)\n",
      "('155_160_156_159', 3)\n",
      "('156_165_157_162', 2)\n",
      "('160_157_159_159', 2)\n",
      "('157_161_155_162', 2)\n",
      "('157_159_157_164', 2)\n",
      "('156_160_156_160', 2)\n",
      "('157_165_155_162', 2)\n",
      "\n",
      "-------------------------------------------\n",
      "Time: 2019-06-13 22:38:25\n",
      "-------------------------------------------\n",
      "('157_163_155_162', 4)\n",
      "('156_165_157_162', 3)\n",
      "('154_162_155_160', 3)\n",
      "('155_159_154_162', 3)\n",
      "('155_158_155_160', 3)\n",
      "('156_159_155_162', 3)\n",
      "('155_161_156_160', 3)\n",
      "('162_155_160_158', 3)\n",
      "('155_160_156_159', 3)\n",
      "('156_167_157_162', 3)\n",
      "\n",
      "-------------------------------------------\n",
      "Time: 2019-06-13 22:38:30\n",
      "-------------------------------------------\n",
      "('155_161_157_161', 5)\n",
      "('157_163_155_162', 5)\n",
      "('157_165_155_162', 4)\n",
      "('155_160_156_160', 4)\n",
      "('155_162_156_160', 4)\n",
      "('156_165_157_162', 3)\n",
      "('157_161_155_162', 3)\n",
      "('154_162_155_160', 3)\n",
      "('155_159_154_162', 3)\n",
      "('155_158_155_160', 3)\n",
      "\n",
      "-------------------------------------------\n",
      "Time: 2019-06-13 22:38:35\n",
      "-------------------------------------------\n",
      "('155_160_156_160', 6)\n",
      "('155_162_156_160', 6)\n",
      "('154_162_155_160', 5)\n",
      "('157_165_155_162', 5)\n",
      "('155_161_157_161', 5)\n",
      "('157_163_155_162', 5)\n",
      "('155_158_155_160', 4)\n",
      "('155_161_156_160', 4)\n",
      "('155_160_156_159', 4)\n",
      "('154_162_156_160', 4)\n",
      "\n",
      "-------------------------------------------\n",
      "Time: 2019-06-13 22:38:40\n",
      "-------------------------------------------\n",
      "('155_160_156_160', 7)\n",
      "('155_162_156_160', 7)\n",
      "('155_161_157_161', 6)\n",
      "('157_163_155_162', 6)\n",
      "('155_162_156_162', 4)\n",
      "('155_162_156_161', 4)\n",
      "('157_165_155_162', 4)\n",
      "('155_161_157_160', 4)\n",
      "('155_161_156_160', 4)\n",
      "('159_159_160_159', 4)\n",
      "\n",
      "-------------------------------------------\n",
      "Time: 2019-06-13 22:38:45\n",
      "-------------------------------------------\n",
      "('155_162_156_160', 8)\n",
      "('155_161_157_161', 7)\n",
      "('155_161_156_159', 6)\n",
      "('155_160_156_160', 6)\n",
      "('157_163_155_162', 6)\n",
      "('156_159_155_162', 5)\n",
      "('155_161_157_160', 4)\n",
      "('155_161_156_160', 4)\n",
      "('159_159_160_159', 4)\n",
      "('155_160_157_160', 4)\n",
      "\n"
     ]
    }
   ],
   "source": [
    "stream = KafkaUtils.createDirectStream(ssc, [\"debs\"], \\\n",
    "            {\"metadata.broker.list\": \"kafka:9092\"})\n",
    "\n",
    "result = stream.window(30) \\\n",
    "            .filter(lambda line : len(line) > 0) \\\n",
    "            .map(lambda line: to_dict(line)) \\\n",
    "            .map(lambda d: to_route_300_grid(d)) \\\n",
    "            .reduceByKey(lambda a, b: a + b) \\\n",
    "            .transform(lambda rdd: sc.parallelize(rdd.top(10, lambda r: r[1])))\n",
    "\n",
    "result.pprint()\n",
    "ssc.start()"
   ]
  },
  {
   "cell_type": "markdown",
   "metadata": {},
   "source": [
    "## Q5: Select the most pleasant taxi driver"
   ]
  },
  {
   "cell_type": "markdown",
   "metadata": {},
   "source": [
    "stream = KafkaUtils.createDirectStream(ssc, [\"debs\"], \\\n",
    "            {\"metadata.broker.list\": \"kafka:9092\"})\n",
    "\n",
    "result = stream.window((24*60*60)/SPEED_UP_FACTOR, (24*60*60)/SPEED_UP_FACTOR) \\\n",
    "            .filter(lambda line : len(line) > 0) \\\n",
    "            .map(lambda line: to_dict(line)) \\\n",
    "            .map(lambda ldict: (ldict[\"medallion\"], ldict[\"tip_amount\"])) \\\n",
    "            .reduce(lambda a, b: a + b) \\\n",
    "            .transform(lambda rdd: sc.parallelize(rdd.top(1, lambda r: r[1])))"
   ]
  },
  {
   "cell_type": "markdown",
   "metadata": {},
   "source": [
    "## Q6: Tips hall of fame!\n",
    "Store biggest tip per route"
   ]
  },
  {
   "cell_type": "code",
   "execution_count": null,
   "metadata": {},
   "outputs": [],
   "source": [
    "stream = KafkaUtils.createDirectStream(ssc, [\"debs\"], \\\n",
    "            {\"metadata.broker.list\": \"kafka:9092\"})\n",
    "\n",
    "result = stream.filter(lambda line : len(line) > 0) \\\n",
    "                .map(lambda line: to_dict(line)) \\\n",
    "                .map(lambda d: to_route_300_grid(d)[1] = d[\"tip_amount\"] ) \\\n",
    "                .reduceByKey(lambda a, b: max(a,b))"
   ]
  },
  {
   "cell_type": "code",
   "execution_count": 274,
   "metadata": {},
   "outputs": [],
   "source": [
    "ssc.stop()\n",
    "sc.stop()"
   ]
  }
 ],
 "metadata": {
  "kernelspec": {
   "display_name": "Python 3",
   "language": "python",
   "name": "python3"
  },
  "language_info": {
   "codemirror_mode": {
    "name": "ipython",
    "version": 3
   },
   "file_extension": ".py",
   "mimetype": "text/x-python",
   "name": "python",
   "nbconvert_exporter": "python",
   "pygments_lexer": "ipython3",
   "version": "3.6.6"
  }
 },
 "nbformat": 4,
 "nbformat_minor": 2
}
