{
 "cells": [
  {
   "cell_type": "markdown",
   "metadata": {},
   "source": [
    "# Spark streaming: 2 + 1\n",
    "\n",
    "    We chose the following queries: 2-> Q1 and Q5, 1-> Q6\n",
    "    This queries only aggregate statistics and do not need pattern matching"
   ]
  },
  {
   "cell_type": "code",
   "execution_count": 32,
   "metadata": {
    "scrolled": true
   },
   "outputs": [
    {
     "name": "stdout",
     "output_type": "stream",
     "text": [
      "SparkContext created!\n",
      "StreamingContext created!\n"
     ]
    }
   ],
   "source": [
    "from pyspark import SparkContext\n",
    "from pyspark.streaming import StreamingContext\n",
    "import socket\n",
    "from pyspark.streaming.kafka import KafkaUtils\n",
    "\n",
    "\n",
    "SPEED_UP_FACTOR = 1000\n",
    "sc = SparkContext(\"local[2]\", \"KafkaExample\")\n",
    "print(\"SparkContext created!\")\n",
    "ssc = StreamingContext(sc, 5)\n",
    "print(\"StreamingContext created!\")"
   ]
  },
  {
   "cell_type": "code",
   "execution_count": 33,
   "metadata": {},
   "outputs": [],
   "source": [
    "def to_dict(item):\n",
    "    event = item[-1].split(',')\n",
    "\n",
    "    keys = [\n",
    "        'medallion',\n",
    "        'hack_license',\n",
    "        'pickup_datetime',\n",
    "        'dropoff_datetime',\n",
    "        'trip_time_in_secs',\n",
    "        'trip_distance',\n",
    "        'pickup_longitude',\n",
    "        'pickup_latitude',\n",
    "        'dropoff_longitude',\n",
    "        'dropoff_latitude',\n",
    "        'payment_type',\n",
    "        'fare_amount',\n",
    "        'surcharge',\n",
    "        'mta_tax',\n",
    "        'tip_amount',\n",
    "        'tolls_amount',\n",
    "        'total_amount'\n",
    "    ]\n",
    "\n",
    "    return {keys[i]: event[i] for i in range(len(keys))}"
   ]
  },
  {
   "cell_type": "markdown",
   "metadata": {},
   "source": [
    "## 300x300 grid\n",
    "Maps longitude and latitude to 300x300 grid"
   ]
  },
  {
   "cell_type": "code",
   "execution_count": 34,
   "metadata": {},
   "outputs": [],
   "source": [
    "def to_route_300_grid(d, value):\n",
    "    start_cell_x = int(-1*((-74.913585 - float(d['pickup_longitude'])) / 0.005986 ) + 1)\n",
    "    start_cell_y = int(((41.474937 - float(d['pickup_latitude']))/ 0.004491556) + 1)\n",
    "    ending_cell_x = int(-1*((-74.913585 - float(d['dropoff_longitude'])) / 0.005986 ) + 1)\n",
    "    ending_cell_y = int(((41.474937 - float(d['dropoff_latitude'])) / 0.004491556) + 1)\n",
    "    \n",
    "    key = f'{start_cell_x}_{start_cell_y}_{ending_cell_x}_{ending_cell_y}'\n",
    "    \n",
    "    if start_cell_x >= 1 and start_cell_y >= 1 and ending_cell_x <= 300 and ending_cell_y <= 300:\n",
    "        return key, value\n",
    "    \n",
    "    return key, 0"
   ]
  },
  {
   "cell_type": "markdown",
   "metadata": {},
   "source": [
    "## Q1: Find the top 10 most frequent routes during the last 30 minutes"
   ]
  },
  {
   "cell_type": "code",
   "execution_count": 4,
   "metadata": {},
   "outputs": [
    {
     "name": "stdout",
     "output_type": "stream",
     "text": [
      "-------------------------------------------\n",
      "Time: 2019-06-17 17:47:00\n",
      "-------------------------------------------\n",
      "('156_163_156_163', 11)\n",
      "('154_162_154_162', 9)\n",
      "('156_164_157_163', 9)\n",
      "('155_163_155_163', 8)\n",
      "('157_162_157_162', 8)\n",
      "('161_156_161_155', 8)\n",
      "('155_163_155_166', 7)\n",
      "('158_159_158_161', 7)\n",
      "('156_164_161_156', 7)\n",
      "('155_166_157_162', 7)\n",
      "\n",
      "-------------------------------------------\n",
      "Time: 2019-06-17 17:47:05\n",
      "-------------------------------------------\n",
      "('158_161_157_163', 30)\n",
      "('159_160_157_163', 28)\n",
      "('159_160_155_162', 26)\n",
      "('161_156_160_158', 26)\n",
      "('157_163_155_162', 26)\n",
      "('159_160_159_160', 24)\n",
      "('159_160_161_157', 21)\n",
      "('157_161_155_162', 20)\n",
      "('157_162_157_162', 20)\n",
      "('161_156_161_155', 20)\n",
      "\n",
      "-------------------------------------------\n",
      "Time: 2019-06-17 17:47:10\n",
      "-------------------------------------------\n",
      "('158_161_157_163', 33)\n",
      "('159_160_157_163', 32)\n",
      "('159_160_155_162', 30)\n",
      "('159_160_159_160', 26)\n",
      "('161_156_160_158', 26)\n",
      "('157_163_155_162', 26)\n",
      "('159_160_161_157', 23)\n",
      "('156_163_156_163', 22)\n",
      "('157_161_155_162', 21)\n",
      "('157_162_157_162', 21)\n",
      "\n",
      "-------------------------------------------\n",
      "Time: 2019-06-17 17:47:15\n",
      "-------------------------------------------\n",
      "('159_160_157_163', 35)\n",
      "('158_161_157_163', 34)\n",
      "('159_160_155_162', 32)\n",
      "('159_160_159_160', 29)\n",
      "('157_163_155_162', 29)\n",
      "('161_156_160_158', 28)\n",
      "('159_160_161_157', 24)\n",
      "('157_162_157_162', 24)\n",
      "('161_155_162_156', 24)\n",
      "('156_163_156_163', 23)\n",
      "\n"
     ]
    }
   ],
   "source": [
    "stream = KafkaUtils.createDirectStream(ssc, [\"debs\"], \\\n",
    "            {\"metadata.broker.list\": \"kafka:9092\"})\n",
    "\n",
    "result = stream.window((30*60)/SPEED_UP_FACTOR) \\\n",
    "            .filter(lambda line : len(line) > 0) \\\n",
    "            .map(lambda line: to_dict(line)) \\\n",
    "            .map(lambda d: to_route_300_grid(d, 1)) \\\n",
    "            .reduceByKey(lambda a, b: a + b) \\\n",
    "            .transform(lambda rdd: sc.parallelize(rdd.top(10, lambda r: r[1])))\n",
    "\n",
    "result.pprint()\n",
    "ssc.start()"
   ]
  },
  {
   "cell_type": "markdown",
   "metadata": {},
   "source": [
    "## Q5: Select the most pleasant taxi driver"
   ]
  },
  {
   "cell_type": "code",
   "execution_count": 9,
   "metadata": {},
   "outputs": [
    {
     "name": "stdout",
     "output_type": "stream",
     "text": [
      "-------------------------------------------\n",
      "Time: 2019-06-17 18:13:00\n",
      "-------------------------------------------\n",
      "('DB6FC742268C83E83A069DE6B3FB3BA1', 81.45)\n",
      "\n",
      "-------------------------------------------\n",
      "Time: 2019-06-17 18:13:30\n",
      "-------------------------------------------\n",
      "('EE8A706C1D8EE8897A1FEB591B5E5884', 80.11)\n",
      "\n",
      "-------------------------------------------\n",
      "Time: 2019-06-17 18:14:00\n",
      "-------------------------------------------\n",
      "('7D61EF14AA7A367FB6F8D66AB32A1E49', 97.73)\n",
      "\n",
      "-------------------------------------------\n",
      "Time: 2019-06-17 18:14:30\n",
      "-------------------------------------------\n",
      "('DF55E62C009EE4F61F8F34552741884B', 45.0)\n",
      "\n"
     ]
    }
   ],
   "source": [
    "stream = KafkaUtils.createDirectStream(ssc, [\"debs\"], \\\n",
    "            {\"metadata.broker.list\": \"kafka:9092\"})\n",
    "\n",
    "result = stream.window(30, 30) \\\n",
    "            .filter(lambda line : len(line) > 0) \\\n",
    "            .map(lambda line: to_dict(line)) \\\n",
    "            .map(lambda line: ( line[\"medallion\"], float(line[\"tip_amount\"]) ) ) \\\n",
    "            .reduceByKey(lambda a, b: a + b) \\\n",
    "            .transform(lambda rdd: sc.parallelize(rdd.top(1, lambda r: r[1])))\n",
    "result.pprint()\n",
    "ssc.start()"
   ]
  },
  {
   "cell_type": "markdown",
   "metadata": {},
   "source": [
    "## Q6: Tips hall of fame!\n",
    "Store biggest tip per route - sorted for convenience"
   ]
  },
  {
   "cell_type": "code",
   "execution_count": 36,
   "metadata": {},
   "outputs": [
    {
     "name": "stdout",
     "output_type": "stream",
     "text": [
      "-------------------------------------------\n",
      "Time: 2019-06-17 18:21:35\n",
      "-------------------------------------------\n",
      "('158_159_157_161', 0.0)\n",
      "('156_159_155_162', 1.5)\n",
      "('154_163_152_166', 1.0)\n",
      "('157_160_155_159', 1.95)\n",
      "('156_159_156_159', 0.0)\n",
      "('157_154_189_186', 0.0)\n",
      "('155_160_189_186', 0.0)\n",
      "('156_163_161_148', 0.0)\n",
      "('155_159_155_162', 1.38)\n",
      "('158_158_155_160', 0.0)\n",
      "...\n",
      "\n",
      "-------------------------------------------\n",
      "Time: 2019-06-17 18:21:40\n",
      "-------------------------------------------\n",
      "('160_158_190_185', 10.4)\n",
      "('152_164_159_159', 0.0)\n",
      "('156_164_164_151', 0.0)\n",
      "('156_166_153_161', 0.0)\n",
      "('156_156_156_162', 1.0)\n",
      "('156_159_176_158', 7.0)\n",
      "('158_155_159_156', 0.0)\n",
      "('162_154_160_154', 0.0)\n",
      "('156_162_158_159', 1.8)\n",
      "('153_160_151_170', 0.0)\n",
      "...\n",
      "\n",
      "-------------------------------------------\n",
      "Time: 2019-06-17 18:21:45\n",
      "-------------------------------------------\n",
      "('154_167_159_160', 2.0)\n",
      "('161_157_159_159', 1.2)\n",
      "('156_166_155_162', 2.75)\n",
      "('155_179_155_162', 6.6)\n",
      "('160_155_154_165', 3.88)\n",
      "('155_173_153_167', 2.75)\n",
      "('157_158_157_161', 1.5)\n",
      "('155_163_155_162', 2.0)\n",
      "('154_160_156_160', 0.0)\n",
      "('156_162_157_159', 0.0)\n",
      "...\n",
      "\n"
     ]
    }
   ],
   "source": [
    "stream = KafkaUtils.createDirectStream(ssc, [\"debs\"], \\\n",
    "            {\"metadata.broker.list\": \"kafka:9092\"})\n",
    "\n",
    "result = stream.filter(lambda line : len(line) > 0) \\\n",
    "                .map(lambda line: to_dict(line)) \\\n",
    "                .map(lambda d: to_route_300_grid(d, float(d[\"tip_amount\"]))) \\\n",
    "                .reduceByKey(lambda a, b: max(a,b)) \n",
    "result.pprint()\n",
    "ssc.start()"
   ]
  },
  {
   "cell_type": "code",
   "execution_count": 37,
   "metadata": {},
   "outputs": [],
   "source": [
    "ssc.stop()\n",
    "sc.stop()"
   ]
  },
  {
   "cell_type": "code",
   "execution_count": null,
   "metadata": {},
   "outputs": [],
   "source": []
  }
 ],
 "metadata": {
  "kernelspec": {
   "display_name": "Python 3",
   "language": "python",
   "name": "python3"
  },
  "language_info": {
   "codemirror_mode": {
    "name": "ipython",
    "version": 3
   },
   "file_extension": ".py",
   "mimetype": "text/x-python",
   "name": "python",
   "nbconvert_exporter": "python",
   "pygments_lexer": "ipython3",
   "version": "3.6.6"
  }
 },
 "nbformat": 4,
 "nbformat_minor": 2
}
