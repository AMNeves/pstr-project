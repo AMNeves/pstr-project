{
 "cells": [
  {
   "cell_type": "markdown",
   "metadata": {},
   "source": [
    "# Spark streaming example\n",
    "\n",
    "This is a simple example of how to run Spark Streaming jobs in Jupyter.\n",
    "\n",
    "To run this example, you should first start the stream sender. To this end, in the Jupyter open, use New > Terminal to open a terminal and in the terminal just run \"python server.py\". After the stream sender is running, you can run the Spark streaming example."
   ]
  },
  {
   "cell_type": "code",
   "execution_count": null,
   "metadata": {},
   "outputs": [],
   "source": [
    "from pyspark import SparkContext\n",
    "\n",
    "sc = SparkContext(\"local[2]\", \"WebLogExample\")"
   ]
  },
  {
   "cell_type": "code",
   "execution_count": null,
   "metadata": {},
   "outputs": [],
   "source": [
    "import socket\n",
    "from pyspark import SparkContext\n",
    "from pyspark.streaming import StreamingContext\n",
    "\n",
    "ssc = StreamingContext(sc, 5)\n",
    "lines = ssc.socketTextStream(\"localhost\", 7777)\n",
    "\n",
    "lines = lines.window(15,5)\n",
    "counts = lines.filter( lambda line : len(line) > 0 ) \\\n",
    "            .map(lambda line: (line.split(' ')[1],1)) \\\n",
    "            .reduceByKey(lambda a, b: a+b) \\\n",
    "            .transform( \\\n",
    "                lambda rdd: rdd.sortBy(lambda x: x[1], ascending=False))\n",
    "counts.pprint()\n",
    "\n",
    "ssc.start()\n",
    "ssc.awaitTermination(120)\n",
    "ssc.stop()"
   ]
  },
  {
   "cell_type": "markdown",
   "metadata": {},
   "source": [
    "# Exercises\n",
    "\n",
    "Do the follwing exercises:\n",
    "1. Dump the number of request per 5 seconds\n",
    "2. Dump the number of request per 5 seconds only if larger than 100\n",
    "3. Dump the number of request per 5 seconds if there is an IP address with more than \n",
    "100 requests\n",
    "\n"
   ]
  },
  {
   "cell_type": "code",
   "execution_count": null,
   "metadata": {},
   "outputs": [],
   "source": []
  }
 ],
 "metadata": {
  "kernelspec": {
   "display_name": "Python 3",
   "language": "python",
   "name": "python3"
  },
  "language_info": {
   "codemirror_mode": {
    "name": "ipython",
    "version": 3
   },
   "file_extension": ".py",
   "mimetype": "text/x-python",
   "name": "python",
   "nbconvert_exporter": "python",
   "pygments_lexer": "ipython3",
   "version": "3.7.3"
  }
 },
 "nbformat": 4,
 "nbformat_minor": 2
}
