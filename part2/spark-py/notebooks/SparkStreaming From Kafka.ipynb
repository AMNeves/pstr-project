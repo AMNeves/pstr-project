{
 "cells": [
  {
   "cell_type": "markdown",
   "metadata": {},
   "source": [
    "# Spark streaming: Kafka example\n",
    "\n",
    "This is a simple example of how to run Spark Streaming jobs in Jupyter reading from Kafka.\n",
    "\n",
    "To run this example, you should first start the Kafka and Publisher provided for project 2."
   ]
  },
  {
   "cell_type": "code",
   "execution_count": null,
   "metadata": {
    "scrolled": true
   },
   "outputs": [],
   "source": [
    "from pyspark import SparkContext\n",
    "from pyspark.streaming import StreamingContext\n",
    "import socket\n",
    "from pyspark.streaming.kafka import KafkaUtils\n",
    "\n",
    "sc = SparkContext(\"local[2]\", \"KafkaExample\")\n",
    "print(\"SparkContext created!\")\n",
    "ssc = StreamingContext(sc, 5)\n",
    "print(\"StreamingContext created!\")\n"
   ]
  },
  {
   "cell_type": "code",
   "execution_count": null,
   "metadata": {},
   "outputs": [],
   "source": [
    "def to_dict(item):\n",
    "    event = item[-1].split(',')\n",
    "\n",
    "    keys = [\n",
    "        'medallion',\n",
    "        'hack_license',\n",
    "        'pickup_datetime',\n",
    "        'dropoff_datetime',\n",
    "        'trip_time_in_secs',\n",
    "        'trip_distance',\n",
    "        'pickup_longitude',\n",
    "        'pickup_latitude',\n",
    "        'dropoff_longitude',\n",
    "        'dropoff_latitude',\n",
    "        'payment_type',\n",
    "        'fare_amount',\n",
    "        'surcharge',\n",
    "        'mta_tax',\n",
    "        'tip_amount',\n",
    "        'tolls_amount',\n",
    "        'total_amount'\n",
    "    ]\n",
    "\n",
    "    return {keys[i]: event[i] for i in range(len(keys))}"
   ]
  },
  {
   "cell_type": "code",
   "execution_count": 6,
   "metadata": {},
   "outputs": [
    {
     "name": "stdout",
     "output_type": "stream",
     "text": [
      "-------------------------------------------\n",
      "Time: 2019-06-09 17:22:50\n",
      "-------------------------------------------\n",
      "('2683', '2683C4572D2006A6C542829617FB2D46,597357CE3A65EF16216BBE43043982F1,2013-01-01 00:02:17,2013-01-01 00:04:23,464,1.3,-73.972527,40.761963,-73.975861,40.750797,CRD,7.5,0.5,0.5,1.7,0.0,10.2')\n",
      "('0FFE', '0FFE15BA6CC105C01B9DB68398518568,23745254EB40809002D44762C43AFB8D,2013-01-01 00:00:23,2013-01-01 00:02:30,574,1.8,-73.993858,40.720547,-73.992256,40.743668,CRD,9.0,0.5,0.5,3.0,0.0,13.0')\n",
      "('0036', '0036961468659D0BFC7241D92E8ED865,AC46D4686265F12C404BE4A533EEDDDB,2013-01-01 00:00:20,2013-01-01 00:02:31,780,3.76,-74.00872,40.716019,-73.998558,40.764084,CSH,14.0,0.5,0.5,0.0,0.0,15.0')\n",
      "('027A', '027A9A35F6EEA3047B7DDF386E17CE27,45A5CA2F8C1090B23F61DC0CC71328A5,2013-01-01 00:00:17,2013-01-01 00:02:31,960,4.63,-74.007347,40.73291,-73.97612,40.776356,CRD,17.0,0.5,0.5,1.5,0.0,19.5')\n",
      "('0399', '0399AE27CC8809B4655FEEB775CB2D86,CC0F01DBEE1E959950FC1CA073F34EC8,2013-01-01 00:00:19,2013-01-01 00:02:31,840,3.67,-73.962616,40.719078,-73.96405,40.718151,CSH,14.5,0.5,0.5,0.0,0.0,15.5')\n",
      "('04BC', '04BC6422B122AEA5BF32379379F709AD,79B7B10BB53D873EEDD602FA59E1939A,2013-01-01 00:00:16,2013-01-01 00:02:31,1020,2.87,-73.98455,40.754181,-73.952087,40.773273,CSH,13.5,0.5,0.5,0.0,0.0,14.5')\n",
      "('0558', '055812F3BA1EEC412E4334F6B8700D25,23064F108CD65A22D15B5350A3D8802E,2013-01-01 00:00:26,2013-01-01 00:02:31,420,1.22,-73.987251,40.735535,-73.993629,40.746029,CRD,7.0,0.5,0.5,2.0,0.0,10.0')\n",
      "('06E8', '06E869970D9DF1505908E8B176AD97AA,AE13D88425DE90E37AFFF825FBD71FDD,2013-01-01 00:00:26,2013-01-01 00:02:31,420,1.07,-74.000946,40.718655,-74.00061,40.728653,CRD,7.0,0.5,0.5,1.5,0.0,9.5')\n",
      "('0A63', '0A63FC93E7E6AFB219214DA3AACA3762,31767C925963B3A01618E6767D022392,2013-01-01 00:00:28,2013-01-01 00:02:31,300,0.86,-73.990555,40.746975,-74.00132,40.746395,CRD,5.5,0.5,0.5,1.5,0.0,8.0')\n",
      "('0A67', '0A6716952AE1B7B1EB901776A8DB82C8,BDE530C22C69B68EAB1CACA606C74679,2013-01-01 00:00:11,2013-01-01 00:02:31,1320,3.11,-73.982544,40.771572,-74.006424,40.739681,CSH,16.0,0.5,0.5,0.0,0.0,17.0')\n",
      "...\n",
      "\n"
     ]
    }
   ],
   "source": [
    "\n",
    "lines = KafkaUtils.createDirectStream(ssc, [\"debs\"], \\\n",
    "            {\"metadata.broker.list\": \"kafka:9092\"})\n",
    "# tut query\n",
    "\n",
    "lines = lines.filter(lambda line : len(line) > 0 ) \\\n",
    "            .map(lambda line: to_dict(line)) \\\n",
    "            .map(lambda line: line['hack_license'] = 1)\n",
    "\n",
    "lines.pprint()\n",
    "ssc.start()"
   ]
  },
  {
   "cell_type": "code",
   "execution_count": 3,
   "metadata": {},
   "outputs": [],
   "source": [
    "ssc.stop()\n",
    "sc.stop()"
   ]
  },
  {
   "cell_type": "code",
   "execution_count": null,
   "metadata": {},
   "outputs": [],
   "source": []
  }
 ],
 "metadata": {
  "kernelspec": {
   "display_name": "Python 3",
   "language": "python",
   "name": "python3"
  },
  "language_info": {
   "codemirror_mode": {
    "name": "ipython",
    "version": 3
   },
   "file_extension": ".py",
   "mimetype": "text/x-python",
   "name": "python",
   "nbconvert_exporter": "python",
   "pygments_lexer": "ipython3",
   "version": "3.6.6"
  }
 },
 "nbformat": 4,
 "nbformat_minor": 2
}
